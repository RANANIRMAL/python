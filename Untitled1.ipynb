{
  "nbformat": 4,
  "nbformat_minor": 0,
  "metadata": {
    "colab": {
      "name": "Untitled1.ipynb",
      "provenance": [],
      "authorship_tag": "ABX9TyNLEJB2CTtdTszZj9Xqr/6c",
      "include_colab_link": true
    },
    "kernelspec": {
      "name": "python3",
      "display_name": "Python 3"
    },
    "language_info": {
      "name": "python"
    }
  },
  "cells": [
    {
      "cell_type": "markdown",
      "metadata": {
        "id": "view-in-github",
        "colab_type": "text"
      },
      "source": [
        "<a href=\"https://colab.research.google.com/github/RANANIRMAL/python/blob/main/Untitled1.ipynb\" target=\"_parent\"><img src=\"https://colab.research.google.com/assets/colab-badge.svg\" alt=\"Open In Colab\"/></a>"
      ]
    },
    {
      "cell_type": "markdown",
      "metadata": {
        "id": "d6rsC2V9eMO6"
      },
      "source": [
        "### ** 학습목표**\n",
        " \n",
        " * 조건문 이해 및 활용"
      ]
    },
    {
      "cell_type": "markdown",
      "metadata": {
        "id": "OccHNQvMeasM"
      },
      "source": [
        "####**조건문(if)**\n",
        "\n",
        "- 특정 조건을 만족하는 경우에 수행활 작업이 있는 경우 사용 \n",
        "- 첨, 거짓 으로 표현된다.\n",
        "- if , elif , else 키워드 사용\n",
        "- 조건무느이 경우, 들여쓰기를 하나의 블룩을 만들고, 여러 중속된 코드로 사용해서 중첩 코드가 가능.\n",
        "\n",
        "- '블록'(block)' : 들여쓰기 된 코드\n",
        "- 모든 블록의 시작괴 마지막에는 :(콜론:colon)이 필요\n"
      ]
    },
    {
      "cell_type": "code",
      "metadata": {
        "colab": {
          "base_uri": "https://localhost:8080/"
        },
        "id": "iEQplND2ghS4",
        "outputId": "81e9dfec-6733-4c03-92bd-e877865a92f1"
      },
      "source": [
        "if 10>20: #거짓\n",
        " print(\"창입니디\")\n",
        "print(\"거짓입나다\")"
      ],
      "execution_count": null,
      "outputs": [
        {
          "output_type": "stream",
          "text": [
            "거짓입나다\n"
          ],
          "name": "stdout"
        }
      ]
    },
    {
      "cell_type": "markdown",
      "metadata": {
        "id": "8vtD7JeKi3E5"
      },
      "source": [
        "### **if, else**\n",
        "\n",
        "- if가 아닌 경우, 나머지 조건을 표현하고 싶을 대\n",
        "- if 조건이 참(true)인 경우. if 블록안의 코드가 수행\n",
        " - 거짓(false)인 경우 else 블록의 코드가 수행\n",
        "- 주의! if와 else 사이에는 다른 코드가 삽입 불가"
      ]
    },
    {
      "cell_type": "code",
      "metadata": {
        "colab": {
          "base_uri": "https://localhost:8080/"
        },
        "id": "tK-GlQ2FhEZV",
        "outputId": "fec452a5-5772-4d42-a23d-706f272b978f"
      },
      "source": [
        "#짝수의 경우 \"짝수!\"를 출력, 홀수인 경우 \"홀수!\"를 출력하는 프로그램을 작성하시오\n",
        "\n",
        "a = 4\n",
        "\n",
        "if a % 2 == 0 : #나머지가 0인 경우(참)\n",
        "  print('짝수!')\n",
        "else:\n",
        "  print('홀수!')"
      ],
      "execution_count": null,
      "outputs": [
        {
          "output_type": "stream",
          "text": [
            "짝수!\n"
          ],
          "name": "stdout"
        }
      ]
    },
    {
      "cell_type": "markdown",
      "metadata": {
        "id": "hoaY3md3sMVo"
      },
      "source": [
        "### **if, elif, else**\n",
        "\n",
        "- 조건이 여러개인 경우, elif으로 처리 가능\n",
        "- elif의 가 조건을 확인 후. ture인 조건의 코드 블록을 싱행\n"
      ]
    },
    {
      "cell_type": "code",
      "metadata": {
        "colab": {
          "base_uri": "https://localhost:8080/"
        },
        "id": "5IkxTrJElb9e",
        "outputId": "0c0d7ea1-60d4-4271-8136-45b673d32be1"
      },
      "source": [
        "score = 100 #점수\n",
        "\n",
        "if score == 100 :\n",
        "  print(\"치킨먹는 날\")\n",
        "elif score>=90 :\n",
        "  print(\"성적 : A \")\n",
        "elif score>=80:\n",
        "  print(\"성적: B\")\n",
        "elif score>=70:\n",
        "  print(\"성적: C\")\n",
        "elif score>=60:\n",
        "  print(\"성적: D\")\n",
        "else :\n",
        "  print(\"성적: F\")\n",
        "print(\"수고하셨습니다.\")"
      ],
      "execution_count": 2,
      "outputs": [
        {
          "output_type": "stream",
          "name": "stdout",
          "text": [
            "치킨먹는 날\n",
            "수고하셨습니다.\n"
          ]
        }
      ]
    },
    {
      "cell_type": "code",
      "metadata": {
        "id": "USdrTtHZs2Sf"
      },
      "source": [
        ""
      ],
      "execution_count": null,
      "outputs": []
    }
  ]
}