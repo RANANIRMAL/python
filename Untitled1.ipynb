{
  "nbformat": 4,
  "nbformat_minor": 0,
  "metadata": {
    "colab": {
      "name": "Untitled1.ipynb",
      "provenance": [],
      "authorship_tag": "ABX9TyMXKg+l5/YxyDjzQ/B6VfsQ",
      "include_colab_link": true
    },
    "kernelspec": {
      "name": "python3",
      "display_name": "Python 3"
    },
    "language_info": {
      "name": "python"
    }
  },
  "cells": [
    {
      "cell_type": "markdown",
      "metadata": {
        "id": "view-in-github",
        "colab_type": "text"
      },
      "source": [
        "<a href=\"https://colab.research.google.com/github/RANANIRMAL/python/blob/main/Untitled1.ipynb\" target=\"_parent\"><img src=\"https://colab.research.google.com/assets/colab-badge.svg\" alt=\"Open In Colab\"/></a>"
      ]
    },
    {
      "cell_type": "markdown",
      "metadata": {
        "id": "fhFCaj7x3w5a"
      },
      "source": [
        "##**학습목표**\n",
        "\n",
        "- 반복문의 이해 및 활용(for)\n",
        "- range 함수 이해"
      ]
    },
    {
      "cell_type": "markdown",
      "metadata": {
        "id": "VJPRD1Ul4Kq0"
      },
      "source": [
        "## **for 반모문**\n",
        "- 라스트, 문자일 등 순회 가능한 것들을 값들 차리할 떄 사용\n",
        "- i는 매번 수행될 때마다 a 안의 값으로 순차적으로 변경이 된다.\n",
        "- 모든 a 안의 값이 수행되면 for문 블록이 종료"
      ]
    },
    {
      "cell_type": "code",
      "metadata": {
        "colab": {
          "base_uri": "https://localhost:8080/"
        },
        "id": "p0x2F4E34moV",
        "outputId": "9d225024-98e4-4835-d7ec-a42c693e9ce3"
      },
      "source": [
        "a = [1, 2 , 3, 4, 5]\n",
        "\n",
        "for i in a:\n",
        "  print(i, i*2)\n",
        "print('\\ni 최종값 :', i) "
      ],
      "execution_count": 4,
      "outputs": [
        {
          "output_type": "stream",
          "name": "stdout",
          "text": [
            "1 2\n",
            "2 4\n",
            "3 6\n",
            "4 8\n",
            "5 10\n",
            "\n",
            "i 최종값 : 5\n"
          ]
        }
      ]
    },
    {
      "cell_type": "code",
      "metadata": {
        "colab": {
          "base_uri": "https://localhost:8080/"
        },
        "id": "WMz3LNV24y8E",
        "outputId": "aaf16a2e-3f73-4f8c-baee-4269cd1d1662"
      },
      "source": [
        "#문자열의 아이템 츨력하기\n",
        "\n",
        "for x in 'hello world' :\n",
        "  print(x)\n",
        "  "
      ],
      "execution_count": 5,
      "outputs": [
        {
          "output_type": "stream",
          "name": "stdout",
          "text": [
            "h\n",
            "e\n",
            "l\n",
            "l\n",
            "o\n",
            " \n",
            "w\n",
            "o\n",
            "r\n",
            "l\n",
            "d\n"
          ]
        }
      ]
    },
    {
      "cell_type": "code",
      "metadata": {
        "colab": {
          "base_uri": "https://localhost:8080/"
        },
        "id": "QryXkhtZ_jIj",
        "outputId": "e86c47ef-c486-4083-de18-5eb8d0966c5f"
      },
      "source": [
        "a = [1, 10, 7, 29, 18]\n",
        "\n",
        "for i in a :\n",
        " if i % 2 == 0 : #짝수\n",
        "   print(i//2)\n",
        " else :\n",
        "   print(i*2)\n",
        "  "
      ],
      "execution_count": 10,
      "outputs": [
        {
          "output_type": "stream",
          "name": "stdout",
          "text": [
            "2\n",
            "5.0\n",
            "14\n",
            "58\n",
            "9.0\n"
          ]
        }
      ]
    },
    {
      "cell_type": "markdown",
      "metadata": {
        "id": "HUF-XHb1AsKR"
      },
      "source": [
        "###**break**\n",
        "- 특징 조건을 만족할 떄 for을 빠져나오기 위해 사용"
      ]
    },
    {
      "cell_type": "code",
      "metadata": {
        "colab": {
          "base_uri": "https://localhost:8080/"
        },
        "id": "k1sbvKZs_4Py",
        "outputId": "c11b94fb-6caf-4a0e-a2c8-28a95762abb3"
      },
      "source": [
        "# a = [1, 10, 7, 29, 18]\n",
        "\n",
        "for i in a :\n",
        "  if i >20 :\n",
        "    break\n",
        "\n",
        "print(i)"
      ],
      "execution_count": 14,
      "outputs": [
        {
          "output_type": "stream",
          "name": "stdout",
          "text": [
            "29\n"
          ]
        }
      ]
    },
    {
      "cell_type": "markdown",
      "metadata": {
        "id": "h65C7Q-QBqGA"
      },
      "source": [
        "##**continue**\n",
        "- 해당 아이템을 건너 뛰고 싶을 때 사용"
      ]
    },
    {
      "cell_type": "code",
      "metadata": {
        "colab": {
          "base_uri": "https://localhost:8080/"
        },
        "id": "6_vO0Z01BMXu",
        "outputId": "994d5aab-9bb0-47a0-9675-9db0da11cdf2"
      },
      "source": [
        "a = [3, 9, 7, 29, 18]\n",
        "\n",
        "for i in a :\n",
        "  if i>5 and i<20 :\n",
        "    continue\n",
        "  print(i)"
      ],
      "execution_count": 18,
      "outputs": [
        {
          "output_type": "stream",
          "name": "stdout",
          "text": [
            "3\n",
            "29\n"
          ]
        }
      ]
    },
    {
      "cell_type": "code",
      "metadata": {
        "id": "GvH5NH9TCIXq"
      },
      "source": [
        ""
      ],
      "execution_count": null,
      "outputs": []
    }
  ]
}